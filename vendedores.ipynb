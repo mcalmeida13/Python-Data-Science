{
  "nbformat": 4,
  "nbformat_minor": 0,
  "metadata": {
    "colab": {
      "name": "vendedores.ipynb",
      "provenance": [],
      "authorship_tag": "ABX9TyOEGimPwvPPT8b+0jzVcyFb",
      "include_colab_link": true
    },
    "kernelspec": {
      "name": "python3",
      "display_name": "Python 3"
    }
  },
  "cells": [
    {
      "cell_type": "markdown",
      "metadata": {
        "id": "view-in-github",
        "colab_type": "text"
      },
      "source": [
        "<a href=\"https://colab.research.google.com/github/mcalmeida13/Python-Data-Science/blob/master/vendedores.ipynb\" target=\"_parent\"><img src=\"https://colab.research.google.com/assets/colab-badge.svg\" alt=\"Open In Colab\"/></a>"
      ]
    },
    {
      "cell_type": "code",
      "metadata": {
        "id": "rYTOYB1RMsp-",
        "colab_type": "code",
        "colab": {
          "base_uri": "https://localhost:8080/",
          "height": 87
        },
        "outputId": "163402d2-a220-4a98-9fea-6fff32f753c1"
      },
      "source": [
        "#A primeira linha contém o número itens da fila de vendedores V\n",
        "V = []\n",
        "n_v = int(input(\"Please enter number n_v\"))\n",
        "for i in range(1, n_v+1, 1):\n",
        "    j =int(input(\"Please enter number j\"))\n",
        "    V.append(j)\n",
        "print(V)"
      ],
      "execution_count": 63,
      "outputs": [
        {
          "output_type": "stream",
          "text": [
            "Please enter number n_v2\n",
            "Please enter number j3\n",
            "Please enter number j6\n",
            "[3, 6]\n"
          ],
          "name": "stdout"
        }
      ]
    },
    {
      "cell_type": "code",
      "metadata": {
        "id": "u1UNvv1iUcCL",
        "colab_type": "code",
        "colab": {
          "base_uri": "https://localhost:8080/",
          "height": 35
        },
        "outputId": "010bfd69-80be-422f-a0f4-6f5159044fa6"
      },
      "source": [
        "#número de clientes\n",
        "n_c = int(input(\"Please enter number of clients\"))"
      ],
      "execution_count": 64,
      "outputs": [
        {
          "output_type": "stream",
          "text": [
            "Please enter number of clients8\n"
          ],
          "name": "stdout"
        }
      ]
    },
    {
      "cell_type": "code",
      "metadata": {
        "id": "B0SVpKUZUn1Y",
        "colab_type": "code",
        "colab": {
          "base_uri": "https://localhost:8080/",
          "height": 35
        },
        "outputId": "a0903225-1726-4479-ba64-d40ec58c48b8"
      },
      "source": [
        "#id do vendedor\n",
        "id = int(input(\"Please enter seller id\"))"
      ],
      "execution_count": 65,
      "outputs": [
        {
          "output_type": "stream",
          "text": [
            "Please enter seller id3\n"
          ],
          "name": "stdout"
        }
      ]
    },
    {
      "cell_type": "code",
      "metadata": {
        "id": "n9R2NwScVzmm",
        "colab_type": "code",
        "colab": {}
      },
      "source": [
        "#vendedor que ira atender depois de n_c clientes\n",
        "V_copy = [V[(i + n_c) % len(V)] \n",
        "               for i, x in enumerate(V)]"
      ],
      "execution_count": 0,
      "outputs": []
    },
    {
      "cell_type": "code",
      "metadata": {
        "id": "G93NyZ6ZXANi",
        "colab_type": "code",
        "colab": {
          "base_uri": "https://localhost:8080/",
          "height": 35
        },
        "outputId": "efdca680-21a0-4a01-a0e1-6a9539db317a"
      },
      "source": [
        "V_copy[0]"
      ],
      "execution_count": 67,
      "outputs": [
        {
          "output_type": "execute_result",
          "data": {
            "text/plain": [
              "3"
            ]
          },
          "metadata": {
            "tags": []
          },
          "execution_count": 67
        }
      ]
    },
    {
      "cell_type": "code",
      "metadata": {
        "id": "wUMkDUBxM9TA",
        "colab_type": "code",
        "colab": {
          "base_uri": "https://localhost:8080/",
          "height": 35
        },
        "outputId": "44d061a3-9a0e-41ae-e96d-67a90c859411"
      },
      "source": [
        "#quantos clientes o vendedor id terá que esperar para atender\n",
        "V.index(id) "
      ],
      "execution_count": 68,
      "outputs": [
        {
          "output_type": "execute_result",
          "data": {
            "text/plain": [
              "0"
            ]
          },
          "metadata": {
            "tags": []
          },
          "execution_count": 68
        }
      ]
    }
  ]
}