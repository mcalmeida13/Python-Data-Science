{
  "nbformat": 4,
  "nbformat_minor": 0,
  "metadata": {
    "colab": {
      "name": "restaurante",
      "provenance": [],
      "authorship_tag": "ABX9TyNga2be0NQvac+oMTEX7i/6",
      "include_colab_link": true
    },
    "kernelspec": {
      "name": "python3",
      "display_name": "Python 3"
    }
  },
  "cells": [
    {
      "cell_type": "markdown",
      "metadata": {
        "id": "view-in-github",
        "colab_type": "text"
      },
      "source": [
        "<a href=\"https://colab.research.google.com/github/mcalmeida13/Python-Data-Science/blob/master/restaurante.ipynb\" target=\"_parent\"><img src=\"https://colab.research.google.com/assets/colab-badge.svg\" alt=\"Open In Colab\"/></a>"
      ]
    },
    {
      "cell_type": "code",
      "metadata": {
        "id": "jriJxKvDTS5U",
        "colab_type": "code",
        "colab": {}
      },
      "source": [
        "def conta(n_c,n_i, Item_total, Item_rest ):\n",
        "\n",
        "    total = sum(Item_total.values())\n",
        "    \n",
        "    newsum = 0\n",
        "    oldsum = 0\n",
        "        \n",
        "    for i in range(len(Item_rest)):\n",
        "        newsum = oldsum + Item_total[Item_rest[i]]\n",
        "        oldsum = newsum\n",
        "\n",
        "    rest = newsum\n",
        "    #rest = sum(Item_total[Item_rest])\n",
        "\n",
        "\n",
        "    preco_ind = (total - rest)/n_c\n",
        "    \n",
        "    \n",
        "\n",
        "    return (total, preco_ind, rest)\n",
        "    "
      ],
      "execution_count": 0,
      "outputs": []
    },
    {
      "cell_type": "code",
      "metadata": {
        "id": "5xzGUx0UTrtY",
        "colab_type": "code",
        "colab": {
          "base_uri": "https://localhost:8080/",
          "height": 35
        },
        "outputId": "56090ab6-777a-4668-ee77-29402aebaa85"
      },
      "source": [
        "conta(3,4,{'item1': 2, 'item2':3,'item3':4,'item4':5},['item1','item3'])"
      ],
      "execution_count": 37,
      "outputs": [
        {
          "output_type": "execute_result",
          "data": {
            "text/plain": [
              "(14, 2.6666666666666665, 6)"
            ]
          },
          "metadata": {
            "tags": []
          },
          "execution_count": 37
        }
      ]
    },
    {
      "cell_type": "code",
      "metadata": {
        "id": "iZFwu6i_Zidi",
        "colab_type": "code",
        "colab": {
          "base_uri": "https://localhost:8080/",
          "height": 35
        },
        "outputId": "0fa9e3f2-4995-471a-8094-4a130075ecce"
      },
      "source": [
        "conta(2,4,{'agua': 5, 'guarana': 6, 'sanduiche': 10, 'cafe': 3},['agua','cafe'])"
      ],
      "execution_count": 38,
      "outputs": [
        {
          "output_type": "execute_result",
          "data": {
            "text/plain": [
              "(24, 8.0, 8)"
            ]
          },
          "metadata": {
            "tags": []
          },
          "execution_count": 38
        }
      ]
    },
    {
      "cell_type": "code",
      "metadata": {
        "id": "OLhotCPtZxtT",
        "colab_type": "code",
        "colab": {}
      },
      "source": [
        ""
      ],
      "execution_count": 0,
      "outputs": []
    }
  ]
}