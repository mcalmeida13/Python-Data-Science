{
  "nbformat": 4,
  "nbformat_minor": 0,
  "metadata": {
    "colab": {
      "name": "meta_venda",
      "provenance": [],
      "authorship_tag": "ABX9TyP8ypYYkK6i5z7SqVW9zSU4",
      "include_colab_link": true
    },
    "kernelspec": {
      "name": "python3",
      "display_name": "Python 3"
    }
  },
  "cells": [
    {
      "cell_type": "markdown",
      "metadata": {
        "id": "view-in-github",
        "colab_type": "text"
      },
      "source": [
        "<a href=\"https://colab.research.google.com/github/mcalmeida13/Python-Data-Science/blob/master/meta_venda.ipynb\" target=\"_parent\"><img src=\"https://colab.research.google.com/assets/colab-badge.svg\" alt=\"Open In Colab\"/></a>"
      ]
    },
    {
      "cell_type": "code",
      "metadata": {
        "id": "ihGIXR7Ces-j",
        "colab_type": "code",
        "colab": {
          "base_uri": "https://localhost:8080/",
          "height": 139
        },
        "outputId": "b78dc2a2-25ab-49d4-d2a3-61b6ab563658"
      },
      "source": [
        "# Criar lista V=[30, 12, 30, 18, 12], metas de vendas\n",
        "V = []\n",
        "n_v = int(input(\"Please enter number n_v\"))\n",
        "for i in range(1, n_v+1, 1):\n",
        "    j =int(input(\"Please enter number j\"))\n",
        "    V.append(j)\n",
        "print(V)"
      ],
      "execution_count": 1,
      "outputs": [
        {
          "output_type": "stream",
          "text": [
            "Please enter number n_v5\n",
            "Please enter number j30\n",
            "Please enter number j12\n",
            "Please enter number j30\n",
            "Please enter number j18\n",
            "Please enter number j12\n",
            "[30, 12, 30, 18, 12]\n"
          ],
          "name": "stdout"
        }
      ]
    },
    {
      "cell_type": "code",
      "metadata": {
        "id": "miJO8OqkeyiI",
        "colab_type": "code",
        "colab": {
          "base_uri": "https://localhost:8080/",
          "height": 104
        },
        "outputId": "cf068bc3-706d-4920-bc3a-b583898d7b55"
      },
      "source": [
        "# Criar lista C=[20, 10, 35], quanto cada vendedor vendeu\n",
        "C = []\n",
        "n_c = int(input(\"Please enter number n_c\"))\n",
        "for i in range(1, n_c+1, 1):\n",
        "    j =int(input(\"Please enter number j\"))\n",
        "    C.append(j)\n",
        "print(C)"
      ],
      "execution_count": 2,
      "outputs": [
        {
          "output_type": "stream",
          "text": [
            "Please enter number n_c3\n",
            "Please enter number j20\n",
            "Please enter number j10\n",
            "Please enter number j35\n",
            "[20, 10, 35]\n"
          ],
          "name": "stdout"
        }
      ]
    },
    {
      "cell_type": "code",
      "metadata": {
        "id": "gjTQD1myezYX",
        "colab_type": "code",
        "colab": {
          "base_uri": "https://localhost:8080/",
          "height": 35
        },
        "outputId": "cd053398-3c9d-4342-889d-13e247ce076d"
      },
      "source": [
        "R = [] #medição da meta\n",
        "n_r = min(n_v,n_c)\n",
        "for i in range(0, n_r, 1):\n",
        "  if C[i] >= V[i]: #se bateu a meta\n",
        "    j = 'ok'\n",
        "    R.append(j)\n",
        "  else:\n",
        "    j = V[i] - C[i] #se não, quanto falta\n",
        "    R.append(j)\n",
        "\n",
        "print(R)"
      ],
      "execution_count": 3,
      "outputs": [
        {
          "output_type": "stream",
          "text": [
            "[10, 2, 'ok']\n"
          ],
          "name": "stdout"
        }
      ]
    },
    {
      "cell_type": "code",
      "metadata": {
        "id": "rzUsL6cRfq3I",
        "colab_type": "code",
        "colab": {}
      },
      "source": [
        ""
      ],
      "execution_count": 0,
      "outputs": []
    }
  ]
}